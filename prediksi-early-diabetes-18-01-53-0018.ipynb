{
 "cells": [
  {
   "cell_type": "code",
   "execution_count": 1,
   "id": "c8b99c15",
   "metadata": {
    "execution": {
     "iopub.execute_input": "2022-01-08T15:08:18.955304Z",
     "iopub.status.busy": "2022-01-08T15:08:18.952489Z",
     "iopub.status.idle": "2022-01-08T15:08:20.034847Z",
     "shell.execute_reply": "2022-01-08T15:08:20.034156Z",
     "shell.execute_reply.started": "2022-01-08T15:00:54.757813Z"
    },
    "papermill": {
     "duration": 1.108811,
     "end_time": "2022-01-08T15:08:20.035076",
     "exception": false,
     "start_time": "2022-01-08T15:08:18.926265",
     "status": "completed"
    },
    "tags": []
   },
   "outputs": [],
   "source": [
    "import pandas as pd\n",
    "import numpy as np\n",
    "import matplotlib.pyplot as plt\n",
    "import seaborn as sns\n",
    "%matplotlib inline"
   ]
  },
  {
   "cell_type": "markdown",
   "id": "89f84960",
   "metadata": {
    "papermill": {
     "duration": 0.016198,
     "end_time": "2022-01-08T15:08:20.069037",
     "exception": false,
     "start_time": "2022-01-08T15:08:20.052839",
     "status": "completed"
    },
    "tags": []
   },
   "source": [
   
   ]
  },
  {
   "cell_type": "code",
   "execution_count": 2,
   "id": "9a716fd6",
   "metadata": {
    "execution": {
     "iopub.execute_input": "2022-01-08T15:08:20.107961Z",
     "iopub.status.busy": "2022-01-08T15:08:20.107344Z",
     "iopub.status.idle": "2022-01-08T15:08:20.131830Z",
     "shell.execute_reply": "2022-01-08T15:08:20.132411Z",
     "shell.execute_reply.started": "2022-01-08T15:00:55.797903Z"
    },
    "papermill": {
     "duration": 0.047225,
     "end_time": "2022-01-08T15:08:20.132592",
     "exception": false,
     "start_time": "2022-01-08T15:08:20.085367",
     "status": "completed"
    },
    "tags": []
   },
   "outputs": [],
   "source": [
    "df_diabetes = pd.read_csv(\"../input/early-diabetes-classification/diabetes_data.csv\", sep = ';')"
   ]
  },
  {
   "cell_type": "code",
   "execution_count": 3,
   "id": "d61857f4",
   "metadata": {
    "execution": {
     "iopub.execute_input": "2022-01-08T15:08:20.172430Z",
     "iopub.status.busy": "2022-01-08T15:08:20.171659Z",
     "iopub.status.idle": "2022-01-08T15:08:20.206178Z",
     "shell.execute_reply": "2022-01-08T15:08:20.206731Z",
     "shell.execute_reply.started": "2022-01-08T15:00:55.824602Z"
    },
    "papermill": {
     "duration": 0.056113,
     "end_time": "2022-01-08T15:08:20.206909",
     "exception": false,
     "start_time": "2022-01-08T15:08:20.150796",
     "status": "completed"
    },
    "tags": []
   },
   "outputs": [
    {
     "data": {
      "text/html": [
       "<div>\n",
       "<style scoped>\n",
       "    .dataframe tbody tr th:only-of-type {\n",
       "        vertical-align: middle;\n",
       "    }\n",
       "\n",
       "    .dataframe tbody tr th {\n",
       "        vertical-align: top;\n",
       "    }\n",
       "\n",
       "    .dataframe thead th {\n",
       "        text-align: right;\n",
       "    }\n",
       "</style>\n",
       "<table border=\"1\" class=\"dataframe\">\n",
       "  <thead>\n",
       "    <tr style=\"text-align: right;\">\n",
       "      <th></th>\n",
       "      <th>age</th>\n",
       "      <th>gender</th>\n",
       "      <th>polyuria</th>\n",
       "      <th>polydipsia</th>\n",
       "      <th>sudden_weight_loss</th>\n",
       "      <th>weakness</th>\n",
       "      <th>polyphagia</th>\n",
       "      <th>genital_thrush</th>\n",
       "      <th>visual_blurring</th>\n",
       "      <th>itching</th>\n",
       "      <th>irritability</th>\n",
       "      <th>delayed_healing</th>\n",
       "      <th>partial_paresis</th>\n",
       "      <th>muscle_stiffness</th>\n",
       "      <th>alopecia</th>\n",
       "      <th>obesity</th>\n",
       "      <th>class</th>\n",
       "    </tr>\n",
       "  </thead>\n",
       "  <tbody>\n",
       "    <tr>\n",
       "      <th>0</th>\n",
       "      <td>40</td>\n",
       "      <td>Male</td>\n",
       "      <td>0</td>\n",
       "      <td>1</td>\n",
       "      <td>0</td>\n",
       "      <td>1</td>\n",
       "      <td>0</td>\n",
       "      <td>0</td>\n",
       "      <td>0</td>\n",
       "      <td>1</td>\n",
       "      <td>0</td>\n",
       "      <td>1</td>\n",
       "      <td>0</td>\n",
       "      <td>1</td>\n",
       "      <td>1</td>\n",
       "      <td>1</td>\n",
       "      <td>1</td>\n",
       "    </tr>\n",
       "    <tr>\n",
       "      <th>1</th>\n",
       "      <td>58</td>\n",
       "      <td>Male</td>\n",
       "      <td>0</td>\n",
       "      <td>0</td>\n",
       "      <td>0</td>\n",
       "      <td>1</td>\n",
       "      <td>0</td>\n",
       "      <td>0</td>\n",
       "      <td>1</td>\n",
       "      <td>0</td>\n",
       "      <td>0</td>\n",
       "      <td>0</td>\n",
       "      <td>1</td>\n",
       "      <td>0</td>\n",
       "      <td>1</td>\n",
       "      <td>0</td>\n",
       "      <td>1</td>\n",
       "    </tr>\n",
       "    <tr>\n",
       "      <th>2</th>\n",
       "      <td>41</td>\n",
       "      <td>Male</td>\n",
       "      <td>1</td>\n",
       "      <td>0</td>\n",
       "      <td>0</td>\n",
       "      <td>1</td>\n",
       "      <td>1</td>\n",
       "      <td>0</td>\n",
       "      <td>0</td>\n",
       "      <td>1</td>\n",
       "      <td>0</td>\n",
       "      <td>1</td>\n",
       "      <td>0</td>\n",
       "      <td>1</td>\n",
       "      <td>1</td>\n",
       "      <td>0</td>\n",
       "      <td>1</td>\n",
       "    </tr>\n",
       "    <tr>\n",
       "      <th>3</th>\n",
       "      <td>45</td>\n",
       "      <td>Male</td>\n",
       "      <td>0</td>\n",
       "      <td>0</td>\n",
       "      <td>1</td>\n",
       "      <td>1</td>\n",
       "      <td>1</td>\n",
       "      <td>1</td>\n",
       "      <td>0</td>\n",
       "      <td>1</td>\n",
       "      <td>0</td>\n",
       "      <td>1</td>\n",
       "      <td>0</td>\n",
       "      <td>0</td>\n",
       "      <td>0</td>\n",
       "      <td>0</td>\n",
       "      <td>1</td>\n",
       "    </tr>\n",
       "    <tr>\n",
       "      <th>4</th>\n",
       "      <td>60</td>\n",
       "      <td>Male</td>\n",
       "      <td>1</td>\n",
       "      <td>1</td>\n",
       "      <td>1</td>\n",
       "      <td>1</td>\n",
       "      <td>1</td>\n",
       "      <td>0</td>\n",
       "      <td>1</td>\n",
       "      <td>1</td>\n",
       "      <td>1</td>\n",
       "      <td>1</td>\n",
       "      <td>1</td>\n",
       "      <td>1</td>\n",
       "      <td>1</td>\n",
       "      <td>1</td>\n",
       "      <td>1</td>\n",
       "    </tr>\n",
       "    <tr>\n",
       "      <th>...</th>\n",
       "      <td>...</td>\n",
       "      <td>...</td>\n",
       "      <td>...</td>\n",
       "      <td>...</td>\n",
       "      <td>...</td>\n",
       "      <td>...</td>\n",
       "      <td>...</td>\n",
       "      <td>...</td>\n",
       "      <td>...</td>\n",
       "      <td>...</td>\n",
       "      <td>...</td>\n",
       "      <td>...</td>\n",
       "      <td>...</td>\n",
       "      <td>...</td>\n",
       "      <td>...</td>\n",
       "      <td>...</td>\n",
       "      <td>...</td>\n",
       "    </tr>\n",
       "    <tr>\n",
       "      <th>515</th>\n",
       "      <td>39</td>\n",
       "      <td>Female</td>\n",
       "      <td>1</td>\n",
       "      <td>1</td>\n",
       "      <td>1</td>\n",
       "      <td>0</td>\n",
       "      <td>1</td>\n",
       "      <td>0</td>\n",
       "      <td>0</td>\n",
       "      <td>1</td>\n",
       "      <td>0</td>\n",
       "      <td>1</td>\n",
       "      <td>1</td>\n",
       "      <td>0</td>\n",
       "      <td>0</td>\n",
       "      <td>0</td>\n",
       "      <td>1</td>\n",
       "    </tr>\n",
       "    <tr>\n",
       "      <th>516</th>\n",
       "      <td>48</td>\n",
       "      <td>Female</td>\n",
       "      <td>1</td>\n",
       "      <td>1</td>\n",
       "      <td>1</td>\n",
       "      <td>1</td>\n",
       "      <td>1</td>\n",
       "      <td>0</td>\n",
       "      <td>0</td>\n",
       "      <td>1</td>\n",
       "      <td>1</td>\n",
       "      <td>1</td>\n",
       "      <td>1</td>\n",
       "      <td>0</td>\n",
       "      <td>0</td>\n",
       "      <td>0</td>\n",
       "      <td>1</td>\n",
       "    </tr>\n",
       "    <tr>\n",
       "      <th>517</th>\n",
       "      <td>58</td>\n",
       "      <td>Female</td>\n",
       "      <td>1</td>\n",
       "      <td>1</td>\n",
       "      <td>1</td>\n",
       "      <td>1</td>\n",
       "      <td>1</td>\n",
       "      <td>0</td>\n",
       "      <td>1</td>\n",
       "      <td>0</td>\n",
       "      <td>0</td>\n",
       "      <td>0</td>\n",
       "      <td>1</td>\n",
       "      <td>1</td>\n",
       "      <td>0</td>\n",
       "      <td>1</td>\n",
       "      <td>1</td>\n",
       "    </tr>\n",
       "    <tr>\n",
       "      <th>518</th>\n",
       "      <td>32</td>\n",
       "      <td>Female</td>\n",
       "      <td>0</td>\n",
       "      <td>0</td>\n",
       "      <td>0</td>\n",
       "      <td>1</td>\n",
       "      <td>0</td>\n",
       "      <td>0</td>\n",
       "      <td>1</td>\n",
       "      <td>1</td>\n",
       "      <td>0</td>\n",
       "      <td>1</td>\n",
       "      <td>0</td>\n",
       "      <td>0</td>\n",
       "      <td>1</td>\n",
       "      <td>0</td>\n",
       "      <td>0</td>\n",
       "    </tr>\n",
       "    <tr>\n",
       "      <th>519</th>\n",
       "      <td>42</td>\n",
       "      <td>Male</td>\n",
       "      <td>0</td>\n",
       "      <td>0</td>\n",
       "      <td>0</td>\n",
       "      <td>0</td>\n",
       "      <td>0</td>\n",
       "      <td>0</td>\n",
       "      <td>0</td>\n",
       "      <td>0</td>\n",
       "      <td>0</td>\n",
       "      <td>0</td>\n",
       "      <td>0</td>\n",
       "      <td>0</td>\n",
       "      <td>0</td>\n",
       "      <td>0</td>\n",
       "      <td>0</td>\n",
       "    </tr>\n",
       "  </tbody>\n",
       "</table>\n",
       "<p>520 rows × 17 columns</p>\n",
       "</div>"
      ],
      "text/plain": [
       "     age  gender  polyuria  polydipsia  sudden_weight_loss  weakness  \\\n",
       "0     40    Male         0           1                   0         1   \n",
       "1     58    Male         0           0                   0         1   \n",
       "2     41    Male         1           0                   0         1   \n",
       "3     45    Male         0           0                   1         1   \n",
       "4     60    Male         1           1                   1         1   \n",
       "..   ...     ...       ...         ...                 ...       ...   \n",
       "515   39  Female         1           1                   1         0   \n",
       "516   48  Female         1           1                   1         1   \n",
       "517   58  Female         1           1                   1         1   \n",
       "518   32  Female         0           0                   0         1   \n",
       "519   42    Male         0           0                   0         0   \n",
       "\n",
       "     polyphagia  genital_thrush  visual_blurring  itching  irritability  \\\n",
       "0             0               0                0        1             0   \n",
       "1             0               0                1        0             0   \n",
       "2             1               0                0        1             0   \n",
       "3             1               1                0        1             0   \n",
       "4             1               0                1        1             1   \n",
       "..          ...             ...              ...      ...           ...   \n",
       "515           1               0                0        1             0   \n",
       "516           1               0                0        1             1   \n",
       "517           1               0                1        0             0   \n",
       "518           0               0                1        1             0   \n",
       "519           0               0                0        0             0   \n",
       "\n",
       "     delayed_healing  partial_paresis  muscle_stiffness  alopecia  obesity  \\\n",
       "0                  1                0                 1         1        1   \n",
       "1                  0                1                 0         1        0   \n",
       "2                  1                0                 1         1        0   \n",
       "3                  1                0                 0         0        0   \n",
       "4                  1                1                 1         1        1   \n",
       "..               ...              ...               ...       ...      ...   \n",
       "515                1                1                 0         0        0   \n",
       "516                1                1                 0         0        0   \n",
       "517                0                1                 1         0        1   \n",
       "518                1                0                 0         1        0   \n",
       "519                0                0                 0         0        0   \n",
       "\n",
       "     class  \n",
       "0        1  \n",
       "1        1  \n",
       "2        1  \n",
       "3        1  \n",
       "4        1  \n",
       "..     ...  \n",
       "515      1  \n",
       "516      1  \n",
       "517      1  \n",
       "518      0  \n",
       "519      0  \n",
       "\n",
       "[520 rows x 17 columns]"
      ]
     },
     "execution_count": 3,
     "metadata": {},
     "output_type": "execute_result"
    }
   ],
   "source": [
    "df_diabetes"
   ]
  },
  {
   "cell_type": "code",
   "execution_count": 4,
   "id": "fa664e72",
   "metadata": {
    "execution": {
     "iopub.execute_input": "2022-01-08T15:08:20.255147Z",
     "iopub.status.busy": "2022-01-08T15:08:20.254330Z",
     "iopub.status.idle": "2022-01-08T15:08:20.257343Z",
     "shell.execute_reply": "2022-01-08T15:08:20.257788Z",
     "shell.execute_reply.started": "2022-01-08T15:00:55.856268Z"
    },
    "papermill": {
     "duration": 0.032834,
     "end_time": "2022-01-08T15:08:20.257957",
     "exception": false,
     "start_time": "2022-01-08T15:08:20.225123",
     "status": "completed"
    },
    "tags": []
   },
   "outputs": [
    {
     "name": "stdout",
     "output_type": "stream",
     "text": [
      "(520, 17)\n",
      "[1 0]\n"
     ]
    }
   ],
   "source": [
    "print(df_diabetes.shape)\n",
    "print(df_diabetes[\"class\"].unique())"
   ]
  },
  {
   "cell_type": "markdown",
   "id": "5af205a4",
   "metadata": {
    "papermill": {
     "duration": 0.017114,
     "end_time": "2022-01-08T15:08:20.292795",
     "exception": false,
     "start_time": "2022-01-08T15:08:20.275681",
     "status": "completed"
    },
    "tags": []
   },
   "source": [
    "**Disini terlihat bahwa data mempunyai baris higga 520 dan 16 kolom predictor untuk kelas diabetes. Kelas diabetes didefinisikan angka 1 dan 0. Selanjutnya kita ubah data gender dari text menjadi variabel binari**"
   ]
  },
  {
   "cell_type": "code",
   "execution_count": 5,
   "id": "8e7f2692",
   "metadata": {
    "execution": {
     "iopub.execute_input": "2022-01-08T15:08:20.338335Z",
     "iopub.status.busy": "2022-01-08T15:08:20.337603Z",
     "iopub.status.idle": "2022-01-08T15:08:20.345955Z",
     "shell.execute_reply": "2022-01-08T15:08:20.346430Z",
     "shell.execute_reply.started": "2022-01-08T15:00:55.867248Z"
    },
    "papermill": {
     "duration": 0.036343,
     "end_time": "2022-01-08T15:08:20.346618",
     "exception": false,
     "start_time": "2022-01-08T15:08:20.310275",
     "status": "completed"
    },
    "tags": []
   },
   "outputs": [
    {
     "data": {
      "text/html": [
       "<div>\n",
       "<style scoped>\n",
       "    .dataframe tbody tr th:only-of-type {\n",
       "        vertical-align: middle;\n",
       "    }\n",
       "\n",
       "    .dataframe tbody tr th {\n",
       "        vertical-align: top;\n",
       "    }\n",
       "\n",
       "    .dataframe thead th {\n",
       "        text-align: right;\n",
       "    }\n",
       "</style>\n",
       "<table border=\"1\" class=\"dataframe\">\n",
       "  <thead>\n",
       "    <tr style=\"text-align: right;\">\n",
       "      <th></th>\n",
       "      <th>age</th>\n",
       "      <th>gender</th>\n",
       "      <th>polyuria</th>\n",
       "      <th>polydipsia</th>\n",
       "      <th>sudden_weight_loss</th>\n",
       "      <th>weakness</th>\n",
       "      <th>polyphagia</th>\n",
       "      <th>genital_thrush</th>\n",
       "      <th>visual_blurring</th>\n",
       "      <th>itching</th>\n",
       "      <th>irritability</th>\n",
       "      <th>delayed_healing</th>\n",
       "      <th>partial_paresis</th>\n",
       "      <th>muscle_stiffness</th>\n",
       "      <th>alopecia</th>\n",
       "      <th>obesity</th>\n",
       "      <th>class</th>\n",
       "    </tr>\n",
       "  </thead>\n",
       "  <tbody>\n",
       "    <tr>\n",
       "      <th>0</th>\n",
       "      <td>40</td>\n",
       "      <td>1</td>\n",
       "      <td>0</td>\n",
       "      <td>1</td>\n",
       "      <td>0</td>\n",
       "      <td>1</td>\n",
       "      <td>0</td>\n",
       "      <td>0</td>\n",
       "      <td>0</td>\n",
       "      <td>1</td>\n",
       "      <td>0</td>\n",
       "      <td>1</td>\n",
       "      <td>0</td>\n",
       "      <td>1</td>\n",
       "      <td>1</td>\n",
       "      <td>1</td>\n",
       "      <td>1</td>\n",
       "    </tr>\n",
       "    <tr>\n",
       "      <th>1</th>\n",
       "      <td>58</td>\n",
       "      <td>1</td>\n",
       "      <td>0</td>\n",
       "      <td>0</td>\n",
       "      <td>0</td>\n",
       "      <td>1</td>\n",
       "      <td>0</td>\n",
       "      <td>0</td>\n",
       "      <td>1</td>\n",
       "      <td>0</td>\n",
       "      <td>0</td>\n",
       "      <td>0</td>\n",
       "      <td>1</td>\n",
       "      <td>0</td>\n",
       "      <td>1</td>\n",
       "      <td>0</td>\n",
       "      <td>1</td>\n",
       "    </tr>\n",
       "    <tr>\n",
       "      <th>2</th>\n",
       "      <td>41</td>\n",
       "      <td>1</td>\n",
       "      <td>1</td>\n",
       "      <td>0</td>\n",
       "      <td>0</td>\n",
       "      <td>1</td>\n",
       "      <td>1</td>\n",
       "      <td>0</td>\n",
       "      <td>0</td>\n",
       "      <td>1</td>\n",
       "      <td>0</td>\n",
       "      <td>1</td>\n",
       "      <td>0</td>\n",
       "      <td>1</td>\n",
       "      <td>1</td>\n",
       "      <td>0</td>\n",
       "      <td>1</td>\n",
       "    </tr>\n",
       "    <tr>\n",
       "      <th>3</th>\n",
       "      <td>45</td>\n",
       "      <td>1</td>\n",
       "      <td>0</td>\n",
       "      <td>0</td>\n",
       "      <td>1</td>\n",
       "      <td>1</td>\n",
       "      <td>1</td>\n",
       "      <td>1</td>\n",
       "      <td>0</td>\n",
       "      <td>1</td>\n",
       "      <td>0</td>\n",
       "      <td>1</td>\n",
       "      <td>0</td>\n",
       "      <td>0</td>\n",
       "      <td>0</td>\n",
       "      <td>0</td>\n",
       "      <td>1</td>\n",
       "    </tr>\n",
       "    <tr>\n",
       "      <th>4</th>\n",
       "      <td>60</td>\n",
       "      <td>1</td>\n",
       "      <td>1</td>\n",
       "      <td>1</td>\n",
       "      <td>1</td>\n",
       "      <td>1</td>\n",
       "      <td>1</td>\n",
       "      <td>0</td>\n",
       "      <td>1</td>\n",
       "      <td>1</td>\n",
       "      <td>1</td>\n",
       "      <td>1</td>\n",
       "      <td>1</td>\n",
       "      <td>1</td>\n",
       "      <td>1</td>\n",
       "      <td>1</td>\n",
       "      <td>1</td>\n",
       "    </tr>\n",
       "  </tbody>\n",
       "</table>\n",
       "</div>"
      ],
      "text/plain": [
       "   age  gender  polyuria  polydipsia  sudden_weight_loss  weakness  \\\n",
       "0   40       1         0           1                   0         1   \n",
       "1   58       1         0           0                   0         1   \n",
       "2   41       1         1           0                   0         1   \n",
       "3   45       1         0           0                   1         1   \n",
       "4   60       1         1           1                   1         1   \n",
       "\n",
       "   polyphagia  genital_thrush  visual_blurring  itching  irritability  \\\n",
       "0           0               0                0        1             0   \n",
       "1           0               0                1        0             0   \n",
       "2           1               0                0        1             0   \n",
       "3           1               1                0        1             0   \n",
       "4           1               0                1        1             1   \n",
       "\n",
       "   delayed_healing  partial_paresis  muscle_stiffness  alopecia  obesity  \\\n",
       "0                1                0                 1         1        1   \n",
       "1                0                1                 0         1        0   \n",
       "2                1                0                 1         1        0   \n",
       "3                1                0                 0         0        0   \n",
       "4                1                1                 1         1        1   \n",
       "\n",
       "   class  \n",
       "0      1  \n",
       "1      1  \n",
       "2      1  \n",
       "3      1  \n",
       "4      1  "
      ]
     },
     "execution_count": 5,
     "metadata": {},
     "output_type": "execute_result"
    }
   ],
   "source": [
    "df_diabetes[\"gender\"] = df_diabetes[\"gender\"].apply({\"Male\":1, \"Female\":0}.get)\n",
    "df_diabetes.head()"
   ]
  },
  {
   "cell_type": "markdown",
   "id": "3d201910",
   "metadata": {
    "papermill": {
     "duration": 0.018929,
     "end_time": "2022-01-08T15:08:20.384716",
     "exception": false,
     "start_time": "2022-01-08T15:08:20.365787",
     "status": "completed"
    },
    "tags": []
   },
   "source": [
    "**Selanjutnya kita pisah data menjadi dataset training dan test dan kita akan gunakan algoritma Klasifikasi Random Forest**"
   ]
  },
  {
   "cell_type": "code",
   "execution_count": 6,
   "id": "aa41a299",
   "metadata": {
    "execution": {
     "iopub.execute_input": "2022-01-08T15:08:20.426439Z",
     "iopub.status.busy": "2022-01-08T15:08:20.425635Z",
     "iopub.status.idle": "2022-01-08T15:08:20.609411Z",
     "shell.execute_reply": "2022-01-08T15:08:20.608798Z",
     "shell.execute_reply.started": "2022-01-08T15:00:55.883710Z"
    },
    "papermill": {
     "duration": 0.206876,
     "end_time": "2022-01-08T15:08:20.609596",
     "exception": false,
     "start_time": "2022-01-08T15:08:20.402720",
     "status": "completed"
    },
    "tags": []
   },
   "outputs": [],
   "source": [
    "from sklearn.model_selection import train_test_split\n",
    "from sklearn.preprocessing import StandardScaler"
   ]
  },
  {
   "cell_type": "code",
   "execution_count": 7,
   "id": "a177cb92",
   "metadata": {
    "execution": {
     "iopub.execute_input": "2022-01-08T15:08:20.652665Z",
     "iopub.status.busy": "2022-01-08T15:08:20.649846Z",
     "iopub.status.idle": "2022-01-08T15:08:20.669102Z",
     "shell.execute_reply": "2022-01-08T15:08:20.669584Z",
     "shell.execute_reply.started": "2022-01-08T15:00:56.060797Z"
    },
    "papermill": {
     "duration": 0.041096,
     "end_time": "2022-01-08T15:08:20.669770",
     "exception": false,
     "start_time": "2022-01-08T15:08:20.628674",
     "status": "completed"
    },
    "tags": []
   },
   "outputs": [
    {
     "data": {
      "text/html": [
       "<div>\n",
       "<style scoped>\n",
       "    .dataframe tbody tr th:only-of-type {\n",
       "        vertical-align: middle;\n",
       "    }\n",
       "\n",
       "    .dataframe tbody tr th {\n",
       "        vertical-align: top;\n",
       "    }\n",
       "\n",
       "    .dataframe thead th {\n",
       "        text-align: right;\n",
       "    }\n",
       "</style>\n",
       "<table border=\"1\" class=\"dataframe\">\n",
       "  <thead>\n",
       "    <tr style=\"text-align: right;\">\n",
       "      <th></th>\n",
       "      <th>age</th>\n",
       "      <th>gender</th>\n",
       "      <th>polyuria</th>\n",
       "      <th>polydipsia</th>\n",
       "      <th>sudden_weight_loss</th>\n",
       "      <th>weakness</th>\n",
       "      <th>polyphagia</th>\n",
       "      <th>genital_thrush</th>\n",
       "      <th>visual_blurring</th>\n",
       "      <th>itching</th>\n",
       "      <th>irritability</th>\n",
       "      <th>delayed_healing</th>\n",
       "      <th>partial_paresis</th>\n",
       "      <th>muscle_stiffness</th>\n",
       "      <th>alopecia</th>\n",
       "      <th>obesity</th>\n",
       "    </tr>\n",
       "  </thead>\n",
       "  <tbody>\n",
       "    <tr>\n",
       "      <th>0</th>\n",
       "      <td>40</td>\n",
       "      <td>1</td>\n",
       "      <td>0</td>\n",
       "      <td>1</td>\n",
       "      <td>0</td>\n",
       "      <td>1</td>\n",
       "      <td>0</td>\n",
       "      <td>0</td>\n",
       "      <td>0</td>\n",
       "      <td>1</td>\n",
       "      <td>0</td>\n",
       "      <td>1</td>\n",
       "      <td>0</td>\n",
       "      <td>1</td>\n",
       "      <td>1</td>\n",
       "      <td>1</td>\n",
       "    </tr>\n",
       "    <tr>\n",
       "      <th>1</th>\n",
       "      <td>58</td>\n",
       "      <td>1</td>\n",
       "      <td>0</td>\n",
       "      <td>0</td>\n",
       "      <td>0</td>\n",
       "      <td>1</td>\n",
       "      <td>0</td>\n",
       "      <td>0</td>\n",
       "      <td>1</td>\n",
       "      <td>0</td>\n",
       "      <td>0</td>\n",
       "      <td>0</td>\n",
       "      <td>1</td>\n",
       "      <td>0</td>\n",
       "      <td>1</td>\n",
       "      <td>0</td>\n",
       "    </tr>\n",
       "    <tr>\n",
       "      <th>2</th>\n",
       "      <td>41</td>\n",
       "      <td>1</td>\n",
       "      <td>1</td>\n",
       "      <td>0</td>\n",
       "      <td>0</td>\n",
       "      <td>1</td>\n",
       "      <td>1</td>\n",
       "      <td>0</td>\n",
       "      <td>0</td>\n",
       "      <td>1</td>\n",
       "      <td>0</td>\n",
       "      <td>1</td>\n",
       "      <td>0</td>\n",
       "      <td>1</td>\n",
       "      <td>1</td>\n",
       "      <td>0</td>\n",
       "    </tr>\n",
       "    <tr>\n",
       "      <th>3</th>\n",
       "      <td>45</td>\n",
       "      <td>1</td>\n",
       "      <td>0</td>\n",
       "      <td>0</td>\n",
       "      <td>1</td>\n",
       "      <td>1</td>\n",
       "      <td>1</td>\n",
       "      <td>1</td>\n",
       "      <td>0</td>\n",
       "      <td>1</td>\n",
       "      <td>0</td>\n",
       "      <td>1</td>\n",
       "      <td>0</td>\n",
       "      <td>0</td>\n",
       "      <td>0</td>\n",
       "      <td>0</td>\n",
       "    </tr>\n",
       "    <tr>\n",
       "      <th>4</th>\n",
       "      <td>60</td>\n",
       "      <td>1</td>\n",
       "      <td>1</td>\n",
       "      <td>1</td>\n",
       "      <td>1</td>\n",
       "      <td>1</td>\n",
       "      <td>1</td>\n",
       "      <td>0</td>\n",
       "      <td>1</td>\n",
       "      <td>1</td>\n",
       "      <td>1</td>\n",
       "      <td>1</td>\n",
       "      <td>1</td>\n",
       "      <td>1</td>\n",
       "      <td>1</td>\n",
       "      <td>1</td>\n",
       "    </tr>\n",
       "    <tr>\n",
       "      <th>...</th>\n",
       "      <td>...</td>\n",
       "      <td>...</td>\n",
       "      <td>...</td>\n",
       "      <td>...</td>\n",
       "      <td>...</td>\n",
       "      <td>...</td>\n",
       "      <td>...</td>\n",
       "      <td>...</td>\n",
       "      <td>...</td>\n",
       "      <td>...</td>\n",
       "      <td>...</td>\n",
       "      <td>...</td>\n",
       "      <td>...</td>\n",
       "      <td>...</td>\n",
       "      <td>...</td>\n",
       "      <td>...</td>\n",
       "    </tr>\n",
       "    <tr>\n",
       "      <th>515</th>\n",
       "      <td>39</td>\n",
       "      <td>0</td>\n",
       "      <td>1</td>\n",
       "      <td>1</td>\n",
       "      <td>1</td>\n",
       "      <td>0</td>\n",
       "      <td>1</td>\n",
       "      <td>0</td>\n",
       "      <td>0</td>\n",
       "      <td>1</td>\n",
       "      <td>0</td>\n",
       "      <td>1</td>\n",
       "      <td>1</td>\n",
       "      <td>0</td>\n",
       "      <td>0</td>\n",
       "      <td>0</td>\n",
       "    </tr>\n",
       "    <tr>\n",
       "      <th>516</th>\n",
       "      <td>48</td>\n",
       "      <td>0</td>\n",
       "      <td>1</td>\n",
       "      <td>1</td>\n",
       "      <td>1</td>\n",
       "      <td>1</td>\n",
       "      <td>1</td>\n",
       "      <td>0</td>\n",
       "      <td>0</td>\n",
       "      <td>1</td>\n",
       "      <td>1</td>\n",
       "      <td>1</td>\n",
       "      <td>1</td>\n",
       "      <td>0</td>\n",
       "      <td>0</td>\n",
       "      <td>0</td>\n",
       "    </tr>\n",
       "    <tr>\n",
       "      <th>517</th>\n",
       "      <td>58</td>\n",
       "      <td>0</td>\n",
       "      <td>1</td>\n",
       "      <td>1</td>\n",
       "      <td>1</td>\n",
       "      <td>1</td>\n",
       "      <td>1</td>\n",
       "      <td>0</td>\n",
       "      <td>1</td>\n",
       "      <td>0</td>\n",
       "      <td>0</td>\n",
       "      <td>0</td>\n",
       "      <td>1</td>\n",
       "      <td>1</td>\n",
       "      <td>0</td>\n",
       "      <td>1</td>\n",
       "    </tr>\n",
       "    <tr>\n",
       "      <th>518</th>\n",
       "      <td>32</td>\n",
       "      <td>0</td>\n",
       "      <td>0</td>\n",
       "      <td>0</td>\n",
       "      <td>0</td>\n",
       "      <td>1</td>\n",
       "      <td>0</td>\n",
       "      <td>0</td>\n",
       "      <td>1</td>\n",
       "      <td>1</td>\n",
       "      <td>0</td>\n",
       "      <td>1</td>\n",
       "      <td>0</td>\n",
       "      <td>0</td>\n",
       "      <td>1</td>\n",
       "      <td>0</td>\n",
       "    </tr>\n",
       "    <tr>\n",
       "      <th>519</th>\n",
       "      <td>42</td>\n",
       "      <td>1</td>\n",
       "      <td>0</td>\n",
       "      <td>0</td>\n",
       "      <td>0</td>\n",
       "      <td>0</td>\n",
       "      <td>0</td>\n",
       "      <td>0</td>\n",
       "      <td>0</td>\n",
       "      <td>0</td>\n",
       "      <td>0</td>\n",
       "      <td>0</td>\n",
       "      <td>0</td>\n",
       "      <td>0</td>\n",
       "      <td>0</td>\n",
       "      <td>0</td>\n",
       "    </tr>\n",
       "  </tbody>\n",
       "</table>\n",
       "<p>520 rows × 16 columns</p>\n",
       "</div>"
      ],
      "text/plain": [
       "     age  gender  polyuria  polydipsia  sudden_weight_loss  weakness  \\\n",
       "0     40       1         0           1                   0         1   \n",
       "1     58       1         0           0                   0         1   \n",
       "2     41       1         1           0                   0         1   \n",
       "3     45       1         0           0                   1         1   \n",
       "4     60       1         1           1                   1         1   \n",
       "..   ...     ...       ...         ...                 ...       ...   \n",
       "515   39       0         1           1                   1         0   \n",
       "516   48       0         1           1                   1         1   \n",
       "517   58       0         1           1                   1         1   \n",
       "518   32       0         0           0                   0         1   \n",
       "519   42       1         0           0                   0         0   \n",
       "\n",
       "     polyphagia  genital_thrush  visual_blurring  itching  irritability  \\\n",
       "0             0               0                0        1             0   \n",
       "1             0               0                1        0             0   \n",
       "2             1               0                0        1             0   \n",
       "3             1               1                0        1             0   \n",
       "4             1               0                1        1             1   \n",
       "..          ...             ...              ...      ...           ...   \n",
       "515           1               0                0        1             0   \n",
       "516           1               0                0        1             1   \n",
       "517           1               0                1        0             0   \n",
       "518           0               0                1        1             0   \n",
       "519           0               0                0        0             0   \n",
       "\n",
       "     delayed_healing  partial_paresis  muscle_stiffness  alopecia  obesity  \n",
       "0                  1                0                 1         1        1  \n",
       "1                  0                1                 0         1        0  \n",
       "2                  1                0                 1         1        0  \n",
       "3                  1                0                 0         0        0  \n",
       "4                  1                1                 1         1        1  \n",
       "..               ...              ...               ...       ...      ...  \n",
       "515                1                1                 0         0        0  \n",
       "516                1                1                 0         0        0  \n",
       "517                0                1                 1         0        1  \n",
       "518                1                0                 0         1        0  \n",
       "519                0                0                 0         0        0  \n",
       "\n",
       "[520 rows x 16 columns]"
      ]
     },
     "execution_count": 7,
     "metadata": {},
     "output_type": "execute_result"
    }
   ],
   "source": [
    "X = df_diabetes[df_diabetes.columns[:-1]]\n",
    "X"
   ]
  },
  {
   "cell_type": "code",
   "execution_count": 8,
   "id": "dd690019",
   "metadata": {
    "execution": {
     "iopub.execute_input": "2022-01-08T15:08:20.714488Z",
     "iopub.status.busy": "2022-01-08T15:08:20.713527Z",
     "iopub.status.idle": "2022-01-08T15:08:20.720998Z",
     "shell.execute_reply": "2022-01-08T15:08:20.721407Z",
     "shell.execute_reply.started": "2022-01-08T15:00:56.079286Z"
    },
    "papermill": {
     "duration": 0.031561,
     "end_time": "2022-01-08T15:08:20.721591",
     "exception": false,
     "start_time": "2022-01-08T15:08:20.690030",
     "status": "completed"
    },
    "tags": []
   },
   "outputs": [
    {
     "data": {
      "text/plain": [
       "0      1\n",
       "1      1\n",
       "2      1\n",
       "3      1\n",
       "4      1\n",
       "      ..\n",
       "515    1\n",
       "516    1\n",
       "517    1\n",
       "518    0\n",
       "519    0\n",
       "Name: class, Length: 520, dtype: int64"
      ]
     },
     "execution_count": 8,
     "metadata": {},
     "output_type": "execute_result"
    }
   ],
   "source": [
    "Y = df_diabetes[df_diabetes.columns[-1]]\n",
    "Y"
   ]
  },
  {
   "cell_type": "code",
   "execution_count": 9,
   "id": "eb7b2708",
   "metadata": {
    "execution": {
     "iopub.execute_input": "2022-01-08T15:08:20.763572Z",
     "iopub.status.busy": "2022-01-08T15:08:20.762292Z",
     "iopub.status.idle": "2022-01-08T15:08:20.775189Z",
     "shell.execute_reply": "2022-01-08T15:08:20.775781Z",
     "shell.execute_reply.started": "2022-01-08T15:00:56.096462Z"
    },
    "papermill": {
     "duration": 0.035667,
     "end_time": "2022-01-08T15:08:20.775959",
     "exception": false,
     "start_time": "2022-01-08T15:08:20.740292",
     "status": "completed"
    },
    "tags": []
   },
   "outputs": [
    {
     "data": {
      "text/plain": [
       "array([[-0.6613669 ,  0.76509206, -0.99233705, ...,  1.29099445,\n",
       "         1.38022749,  2.21564684],\n",
       "       [ 0.82136224,  0.76509206, -0.99233705, ..., -0.77459667,\n",
       "         1.38022749, -0.45133547],\n",
       "       [-0.57899306,  0.76509206,  1.00772212, ...,  1.29099445,\n",
       "         1.38022749, -0.45133547],\n",
       "       ...,\n",
       "       [ 0.82136224, -1.30703226,  1.00772212, ...,  1.29099445,\n",
       "        -0.72451824,  2.21564684],\n",
       "       [-1.32035762, -1.30703226, -0.99233705, ..., -0.77459667,\n",
       "         1.38022749, -0.45133547],\n",
       "       [-0.49661921,  0.76509206, -0.99233705, ..., -0.77459667,\n",
       "        -0.72451824, -0.45133547]])"
      ]
     },
     "execution_count": 9,
     "metadata": {},
     "output_type": "execute_result"
    }
   ],
   "source": [
    "scaler = StandardScaler()\n",
    "scaled_X = scaler.fit_transform(X)\n",
    "scaled_X"
   ]
  },
  {
   "cell_type": "code",
   "execution_count": 10,
   "id": "c4387c7f",
   "metadata": {
    "execution": {
     "iopub.execute_input": "2022-01-08T15:08:20.822316Z",
     "iopub.status.busy": "2022-01-08T15:08:20.821598Z",
     "iopub.status.idle": "2022-01-08T15:08:20.828660Z",
     "shell.execute_reply": "2022-01-08T15:08:20.829181Z",
     "shell.execute_reply.started": "2022-01-08T15:00:56.113741Z"
    },
    "papermill": {
     "duration": 0.032827,
     "end_time": "2022-01-08T15:08:20.829386",
     "exception": false,
     "start_time": "2022-01-08T15:08:20.796559",
     "status": "completed"
    },
    "tags": []
   },
   "outputs": [],
   "source": [
    "X_train, X_test, Y_train, Y_test = train_test_split(scaled_X, \n",
    "                                                    Y, \n",
    "                                                    test_size=0.4, \n",
    "                                                    random_state=101)"
   ]
  },
  {
   "cell_type": "code",
   "execution_count": 11,
   "id": "0ce9e79c",
   "metadata": {
    "execution": {
     "iopub.execute_input": "2022-01-08T15:08:20.878042Z",
     "iopub.status.busy": "2022-01-08T15:08:20.874490Z",
     "iopub.status.idle": "2022-01-08T15:08:20.881356Z",
     "shell.execute_reply": "2022-01-08T15:08:20.881819Z",
     "shell.execute_reply.started": "2022-01-08T15:00:56.122139Z"
    },
    "papermill": {
     "duration": 0.031787,
     "end_time": "2022-01-08T15:08:20.882050",
     "exception": false,
     "start_time": "2022-01-08T15:08:20.850263",
     "status": "completed"
    },
    "tags": []
   },
   "outputs": [
    {
     "data": {
      "text/plain": [
       "array([-0.00237617,  0.76509206,  1.00772212,  1.10984668,  1.18165704,\n",
       "       -1.19105191,  1.09274555,  1.86621505, -0.90102535, -0.97342978,\n",
       "       -0.56550593,  1.08431186, -0.86991767, -0.77459667, -0.72451824,\n",
       "       -0.45133547])"
      ]
     },
     "execution_count": 11,
     "metadata": {},
     "output_type": "execute_result"
    }
   ],
   "source": [
    "X_test[0]"
   ]
  },
  {
   "cell_type": "markdown",
   "id": "1e7a7b3d",
   "metadata": {
    "papermill": {
     "duration": 0.018995,
     "end_time": "2022-01-08T15:08:20.922452",
     "exception": false,
     "start_time": "2022-01-08T15:08:20.903457",
     "status": "completed"
    },
    "tags": []
   },
   "source": [
    "# Data Analisis\n",
    "\n",
    "**Sebelum melakukan training data kita akan mengeksplorasi dataset terlebih dahulu untuk mengetahui profil gender dan usia dari dataset serta hubungannya dengan kelas**"
   ]
  },
  {
   "cell_type": "code",
   "execution_count": 12,
   "id": "b14ed328",
   "metadata": {
    "execution": {
     "iopub.execute_input": "2022-01-08T15:08:20.969505Z",
     "iopub.status.busy": "2022-01-08T15:08:20.968848Z",
     "iopub.status.idle": "2022-01-08T15:08:21.180885Z",
     "shell.execute_reply": "2022-01-08T15:08:21.180426Z",
     "shell.execute_reply.started": "2022-01-08T15:00:56.136421Z"
    },
    "papermill": {
     "duration": 0.237958,
     "end_time": "2022-01-08T15:08:21.181068",
     "exception": false,
     "start_time": "2022-01-08T15:08:20.943110",
     "status": "completed"
    },
    "tags": []
   },
   "outputs": [
    {
     "data": {
      "text/plain": [
       "<AxesSubplot:xlabel='gender', ylabel='count'>"
      ]
     },
     "execution_count": 12,
     "metadata": {},
     "output_type": "execute_result"
    },
    {
     "data": {
      "image/png": "[encoded data removed]",
      "text/plain": [
       "<Figure size 432x288 with 1 Axes>"
      ]
     },
     "metadata": {
      "needs_background": "light"
     },
     "output_type": "display_data"
    }
   ],
   "source": [
    "sns.countplot(x=\"gender\", data=df_diabetes)"
   ]
  },
  {
   "cell_type": "code",
   "execution_count": 13,
   "id": "516c45d5",
   "metadata": {
    "execution": {
     "iopub.execute_input": "2022-01-08T15:08:21.228624Z",
     "iopub.status.busy": "2022-01-08T15:08:21.227971Z",
     "iopub.status.idle": "2022-01-08T15:08:21.441354Z",
     "shell.execute_reply": "2022-01-08T15:08:21.442043Z",
     "shell.execute_reply.started": "2022-01-08T15:00:56.339735Z"
    },
    "papermill": {
     "duration": 0.240515,
     "end_time": "2022-01-08T15:08:21.442272",
     "exception": false,
     "start_time": "2022-01-08T15:08:21.201757",
     "status": "completed"
    },
    "tags": []
   },
   "outputs": [
    {
     "data": {
      "text/plain": [
       "<AxesSubplot:xlabel='class', ylabel='count'>"
      ]
     },
     "execution_count": 13,
     "metadata": {},
     "output_type": "execute_result"
    },
    {
     "data": {
      "image/png": "[encoded data removed]",
      "text/plain": [
       "<Figure size 432x288 with 1 Axes>"
      ]
     },
     "metadata": {
      "needs_background": "light"
     },
     "output_type": "display_data"
    }
   ],
   "source": [
    "sns.countplot(x=\"class\", hue=\"gender\", data=df_diabetes)\n"
   ]
  },
  {
   "cell_type": "code",
   "execution_count": 14,
   "id": "9efe0a8a",
   "metadata": {
    "execution": {
     "iopub.execute_input": "2022-01-08T15:08:21.492313Z",
     "iopub.status.busy": "2022-01-08T15:08:21.491646Z",
     "iopub.status.idle": "2022-01-08T15:08:21.741381Z",
     "shell.execute_reply": "2022-01-08T15:08:21.741804Z",
     "shell.execute_reply.started": "2022-01-08T15:00:56.543837Z"
    },
    "papermill": {
     "duration": 0.27582,
     "end_time": "2022-01-08T15:08:21.742067",
     "exception": false,
     "start_time": "2022-01-08T15:08:21.466247",
     "status": "completed"
    },
    "tags": []
   },
   "outputs": [
    {
     "data": {
      "text/plain": [
       "<AxesSubplot:xlabel='age', ylabel='Count'>"
      ]
     },
     "execution_count": 14,
     "metadata": {},
     "output_type": "execute_result"
    },
    {
     "data": {
      "image/png": "[encoded data removed]",
      "text/plain": [
       "<Figure size 432x288 with 1 Axes>"
      ]
     },
     "metadata": {
      "needs_background": "light"
     },
     "output_type": "display_data"
    }
   ],
   "source": [
    "sns.histplot(df_diabetes[\"age\"], kde=False, bins=10)"
   ]
  },
  {
   "cell_type": "markdown",
   "id": "337bdbdf",
   "metadata": {
    "papermill": {
     "duration": 0.022354,
     "end_time": "2022-01-08T15:08:21.788095",
     "exception": false,
     "start_time": "2022-01-08T15:08:21.765741",
     "status": "completed"
    },
    "tags": []
   },
   "source": [
    "**Dari analisis awal, kita memiliki dataset mayoritas perempuan tetapi lebih banyak laki laki yang didiagnosis dengan diabetes. Selain itu, histogram menunjukkan bahwa kita memiliki kelompok usia mayoritas 50-60 tahun**"
   ]
  },
  {
   "cell_type": "markdown",
   "id": "bffdc421",
   "metadata": {
    "papermill": {
     "duration": 0.021835,
     "end_time": "2022-01-08T15:08:21.832351",
     "exception": false,
     "start_time": "2022-01-08T15:08:21.810516",
     "status": "completed"
    },
    "tags": []
   },
   "source": [
    "# METODE\n",
    "\n",
    "**Kita akan menggunakan metode klasifikasi Random Forest**\n",
    "\n",
    "Random forest (RF) adalah suatu algoritma yang digunakan pada klasifikasi data dalam jumlah yang besar. Klasifikasi random forest dilakukan melalui penggabungan pohon (tree) dengan melakukan training pada sampel data yang dimiliki. Penggunaan pohon (tree) yang semakin banyak akan mempengaruhi akurasi yang akan didapatkan menjadi lebih baik."
   ]
  },
  {
   "cell_type": "code",
   "execution_count": 15,
   "id": "6b2d6436",
   "metadata": {
    "execution": {
     "iopub.execute_input": "2022-01-08T15:08:21.879967Z",
     "iopub.status.busy": "2022-01-08T15:08:21.879304Z",
     "iopub.status.idle": "2022-01-08T15:08:22.102862Z",
     "shell.execute_reply": "2022-01-08T15:08:22.102078Z",
     "shell.execute_reply.started": "2022-01-08T15:00:56.780403Z"
    },
    "papermill": {
     "duration": 0.248996,
     "end_time": "2022-01-08T15:08:22.103060",
     "exception": false,
     "start_time": "2022-01-08T15:08:21.854064",
     "status": "completed"
    },
    "tags": []
   },
   "outputs": [],
   "source": [
    "from sklearn.ensemble import RandomForestClassifier\n",
    "from sklearn import metrics\n",
    "from sklearn.metrics import classification_report, confusion_matrix, f1_score"
   ]
  },
  {
   "cell_type": "code",
   "execution_count": 16,
   "id": "58ed9386",
   "metadata": {
    "execution": {
     "iopub.execute_input": "2022-01-08T15:08:22.153262Z",
     "iopub.status.busy": "2022-01-08T15:08:22.152257Z",
     "iopub.status.idle": "2022-01-08T15:08:22.301382Z",
     "shell.execute_reply": "2022-01-08T15:08:22.301830Z",
     "shell.execute_reply.started": "2022-01-08T15:00:56.988930Z"
    },
    "papermill": {
     "duration": 0.176614,
     "end_time": "2022-01-08T15:08:22.302049",
     "exception": false,
     "start_time": "2022-01-08T15:08:22.125435",
     "status": "completed"
    },
    "tags": []
   },
   "outputs": [
    {
     "data": {
      "text/plain": [
       "RandomForestClassifier()"
      ]
     },
     "execution_count": 16,
     "metadata": {},
     "output_type": "execute_result"
    }
   ],
   "source": [
    "rfc = RandomForestClassifier(n_estimators=100)\n",
    "rfc.fit(X_train, Y_train)"
   ]
  },
  {
   "cell_type": "markdown",
   "id": "46827ed6",
   "metadata": {
    "papermill": {
     "duration": 0.021915,
     "end_time": "2022-01-08T15:08:22.346149",
     "exception": false,
     "start_time": "2022-01-08T15:08:22.324234",
     "status": "completed"
    },
    "tags": []
   },
   "source": [
    "**Evaluasi Model**"
   ]
  },
  {
   "cell_type": "code",
   "execution_count": 17,
   "id": "19c070d3",
   "metadata": {
    "execution": {
     "iopub.execute_input": "2022-01-08T15:08:22.394211Z",
     "iopub.status.busy": "2022-01-08T15:08:22.393555Z",
     "iopub.status.idle": "2022-01-08T15:08:22.408321Z",
     "shell.execute_reply": "2022-01-08T15:08:22.408869Z",
     "shell.execute_reply.started": "2022-01-08T15:00:57.143214Z"
    },
    "papermill": {
     "duration": 0.040888,
     "end_time": "2022-01-08T15:08:22.409065",
     "exception": false,
     "start_time": "2022-01-08T15:08:22.368177",
     "status": "completed"
    },
    "tags": []
   },
   "outputs": [],
   "source": [
    "predictions_rfc = rfc.predict(X_test)"
   ]
  },
  {
   "cell_type": "code",
   "execution_count": 18,
   "id": "602674f0",
   "metadata": {
    "execution": {
     "iopub.execute_input": "2022-01-08T15:08:22.459144Z",
     "iopub.status.busy": "2022-01-08T15:08:22.458485Z",
     "iopub.status.idle": "2022-01-08T15:08:22.467237Z",
     "shell.execute_reply": "2022-01-08T15:08:22.466712Z",
     "shell.execute_reply.started": "2022-01-08T15:00:57.161409Z"
    },
    "papermill": {
     "duration": 0.036127,
     "end_time": "2022-01-08T15:08:22.467405",
     "exception": false,
     "start_time": "2022-01-08T15:08:22.431278",
     "status": "completed"
    },
    "tags": []
   },
   "outputs": [
    {
     "name": "stdout",
     "output_type": "stream",
     "text": [
      "              precision    recall  f1-score   support\n",
      "\n",
      "           0       0.96      0.98      0.97        83\n",
      "           1       0.98      0.98      0.98       125\n",
      "\n",
      "    accuracy                           0.98       208\n",
      "   macro avg       0.97      0.98      0.97       208\n",
      "weighted avg       0.98      0.98      0.98       208\n",
      "\n"
     ]
    }
   ],
   "source": [
    "print(classification_report(Y_test, predictions_rfc))"
   ]
  },
  {
   "cell_type": "code",
   "execution_count": 19,
   "id": "187e23cd",
   "metadata": {
    "execution": {
     "iopub.execute_input": "2022-01-08T15:08:22.519672Z",
     "iopub.status.busy": "2022-01-08T15:08:22.517251Z",
     "iopub.status.idle": "2022-01-08T15:08:22.524017Z",
     "shell.execute_reply": "2022-01-08T15:08:22.523492Z",
     "shell.execute_reply.started": "2022-01-08T15:00:57.172149Z"
    },
    "papermill": {
     "duration": 0.034189,
     "end_time": "2022-01-08T15:08:22.524163",
     "exception": false,
     "start_time": "2022-01-08T15:08:22.489974",
     "status": "completed"
    },
    "tags": []
   },
   "outputs": [
    {
     "name": "stdout",
     "output_type": "stream",
     "text": [
      "[[ 81   2]\n",
      " [  3 122]]\n"
     ]
    }
   ],
   "source": [
    "print(confusion_matrix(Y_test, predictions_rfc))"
   ]
  },
  {
   "cell_type": "markdown",
   "id": "75147efe",
   "metadata": {
    "papermill": {
     "duration": 0.022006,
     "end_time": "2022-01-08T15:08:22.568762",
     "exception": false,
     "start_time": "2022-01-08T15:08:22.546756",
     "status": "completed"
    },
    "tags": []
   },
   "source": [
    "**Melakukan Prediksi**"
   ]
  },
  {
   "cell_type": "code",
   "execution_count": 20,
   "id": "1df8705b",
   "metadata": {
    "execution": {
     "iopub.execute_input": "2022-01-08T15:08:22.616710Z",
     "iopub.status.busy": "2022-01-08T15:08:22.616067Z",
     "iopub.status.idle": "2022-01-08T15:08:22.622024Z",
     "shell.execute_reply": "2022-01-08T15:08:22.621523Z",
     "shell.execute_reply.started": "2022-01-08T15:00:57.183564Z"
    },
    "papermill": {
     "duration": 0.031067,
     "end_time": "2022-01-08T15:08:22.622176",
     "exception": false,
     "start_time": "2022-01-08T15:08:22.591109",
     "status": "completed"
    },
    "tags": []
   },
   "outputs": [],
   "source": [
    "A = [[40,1,0,1,0,1,0,0,0,1,0,1,0,1,1,1]]\n",
    "B = [[32,0,0,0,0,1,0,0,1,1,0,1,0,0,1,0]]"
   ]
  },
  {
   "cell_type": "code",
   "execution_count": 21,
   "id": "b512f3f7",
   "metadata": {
    "execution": {
     "iopub.execute_input": "2022-01-08T15:08:22.675031Z",
     "iopub.status.busy": "2022-01-08T15:08:22.673342Z",
     "iopub.status.idle": "2022-01-08T15:08:22.686006Z",
     "shell.execute_reply": "2022-01-08T15:08:22.686538Z",
     "shell.execute_reply.started": "2022-01-08T15:00:57.190795Z"
    },
    "papermill": {
     "duration": 0.042103,
     "end_time": "2022-01-08T15:08:22.686702",
     "exception": false,
     "start_time": "2022-01-08T15:08:22.644599",
     "status": "completed"
    },
    "tags": []
   },
   "outputs": [
    {
     "data": {
      "text/plain": [
       "array([1])"
      ]
     },
     "execution_count": 21,
     "metadata": {},
     "output_type": "execute_result"
    }
   ],
   "source": [
    "predictions_A = rfc.predict(A)\n",
    "predictions_A"
   ]
  },
  {
   "cell_type": "code",
   "execution_count": 22,
   "id": "39852cbb",
   "metadata": {
    "execution": {
     "iopub.execute_input": "2022-01-08T15:08:22.735458Z",
     "iopub.status.busy": "2022-01-08T15:08:22.734792Z",
     "iopub.status.idle": "2022-01-08T15:08:22.749094Z",
     "shell.execute_reply": "2022-01-08T15:08:22.749589Z",
     "shell.execute_reply.started": "2022-01-08T15:00:57.213387Z"
    },
    "papermill": {
     "duration": 0.040555,
     "end_time": "2022-01-08T15:08:22.749761",
     "exception": false,
     "start_time": "2022-01-08T15:08:22.709206",
     "status": "completed"
    },
    "tags": []
   },
   "outputs": [
    {
     "data": {
      "text/plain": [
       "array([0])"
      ]
     },
     "execution_count": 22,
     "metadata": {},
     "output_type": "execute_result"
    }
   ],
   "source": [
    "predictions_B = rfc.predict(B)\n",
    "predictions_B"
   ]
  }
 ],
 "metadata": {
  "kernelspec": {
   "display_name": "Python 3",
   "language": "python",
   "name": "python3"
  },
  "language_info": {
   "codemirror_mode": {
    "name": "ipython",
    "version": 3
   },
   "file_extension": ".py",
   "mimetype": "text/x-python",
   "name": "python",
   "nbconvert_exporter": "python",
   "pygments_lexer": "ipython3",
   "version": "3.7.12"
  },
  "papermill": {
   "default_parameters": {},
   "duration": 14.228793,
   "end_time": "2022-01-08T15:08:23.784171",
   "environment_variables": {},
   "exception": null,
   "input_path": "__notebook__.ipynb",
   "output_path": "__notebook__.ipynb",
   "parameters": {},
   "start_time": "2022-01-08T15:08:09.555378",
   "version": "2.3.3"
  }
 },
 "nbformat": 4,
 "nbformat_minor": 5
}
